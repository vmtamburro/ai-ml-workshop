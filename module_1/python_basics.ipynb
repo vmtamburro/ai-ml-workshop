{
 "cells": [
  {
   "cell_type": "code",
   "execution_count": 1,
   "id": "8da83378-f654-4c39-8fdc-4ae890e7aa48",
   "metadata": {},
   "outputs": [
    {
     "name": "stdout",
     "output_type": "stream",
     "text": [
      "1.6.0\n"
     ]
    }
   ],
   "source": [
    "# test to see if you have sklearn installed\n",
    "import sklearn\n",
    "print(sklearn.__version__)"
   ]
  },
  {
   "cell_type": "code",
   "execution_count": 2,
   "id": "d6c92b0c-cea7-4836-b5a6-49327c24b9af",
   "metadata": {},
   "outputs": [],
   "source": [
    "# Python for Everybody, Exploring Data using Python 3  - Dr. Charles R Severance"
   ]
  },
  {
   "cell_type": "code",
   "execution_count": 3,
   "id": "07aa05bd-daed-447a-8d2c-ca3fd018cfa0",
   "metadata": {},
   "outputs": [],
   "source": [
    "# This is a comment. Comments are not compiled. They are for humans to explain or understand code."
   ]
  },
  {
   "cell_type": "code",
   "execution_count": 4,
   "id": "1ab1e6d6-6ee2-4234-8d22-766b47e16e53",
   "metadata": {},
   "outputs": [
    {
     "name": "stdout",
     "output_type": "stream",
     "text": [
      "Hello, world!\n"
     ]
    }
   ],
   "source": [
    "# Why Program?\n",
    "# Computers follow instructions. Programming lets us automate tasks.\n",
    "print(\"Hello, world!\")"
   ]
  },
  {
   "cell_type": "code",
   "execution_count": 5,
   "id": "105f4f2a-88e6-4f45-a9d2-de23a90468bb",
   "metadata": {},
   "outputs": [
    {
     "name": "stdout",
     "output_type": "stream",
     "text": [
      "5\n"
     ]
    }
   ],
   "source": [
    "# Variables, Expressions, and Statements\n",
    "# Variables store data. You can do math with them.\n",
    "x = 5\n",
    "print(x)"
   ]
  },
  {
   "cell_type": "code",
   "execution_count": 6,
   "id": "f6b325f2-8934-4b68-b09e-28cf1851dfd7",
   "metadata": {},
   "outputs": [
    {
     "name": "stdout",
     "output_type": "stream",
     "text": [
      "7\n"
     ]
    }
   ],
   "source": [
    "y = x + 2\n",
    "print(y)"
   ]
  },
  {
   "cell_type": "code",
   "execution_count": 7,
   "id": "45299cdc-c5a5-4ce5-aefd-2d331f9f1319",
   "metadata": {},
   "outputs": [
    {
     "name": "stdout",
     "output_type": "stream",
     "text": [
      "x is greater than 5\n"
     ]
    }
   ],
   "source": [
    "# Conditional Expressions\n",
    "# Programs can make decisions based on conditions\n",
    "x = 10\n",
    "if x > 5:\n",
    "    print(\"x is greater than 5\")"
   ]
  },
  {
   "cell_type": "code",
   "execution_count": 8,
   "id": "48251854-2a7c-49b9-8277-a97615d56a15",
   "metadata": {},
   "outputs": [],
   "source": [
    "# Functions\n",
    "# Functions help organize and reuse code\n",
    "def greet(name):\n",
    "    print(\"Hello,\", name)"
   ]
  },
  {
   "cell_type": "code",
   "execution_count": 9,
   "id": "b2bfadba-c3d4-4a0e-8802-bdbbeed6afe8",
   "metadata": {},
   "outputs": [
    {
     "name": "stdout",
     "output_type": "stream",
     "text": [
      "Hello, Victoria\n"
     ]
    }
   ],
   "source": [
    "greet(\"Victoria\")"
   ]
  },
  {
   "cell_type": "code",
   "execution_count": 10,
   "id": "99da4db9-9b16-4fd1-9efe-8c9a72c16cc2",
   "metadata": {},
   "outputs": [
    {
     "name": "stdout",
     "output_type": "stream",
     "text": [
      "Pyt\n"
     ]
    }
   ],
   "source": [
    "# Strings\n",
    "# Strings are a sequence of characters\n",
    "s = \"Python\"\n",
    "print(s[0:3])"
   ]
  },
  {
   "cell_type": "code",
   "execution_count": 11,
   "id": "4970c571-2902-46a8-89cf-c991c07b26b3",
   "metadata": {},
   "outputs": [
    {
     "name": "stdout",
     "output_type": "stream",
     "text": [
      "[1, 2, 3, 4]\n"
     ]
    }
   ],
   "source": [
    "# Lists\n",
    "# Lists store multiple items in order\n",
    "numbers = [1, 2, 3]\n",
    "numbers.append(4)\n",
    "print(numbers)"
   ]
  },
  {
   "cell_type": "code",
   "execution_count": 12,
   "id": "d32a2e7e-9623-49c8-8af4-cb36142290c8",
   "metadata": {},
   "outputs": [
    {
     "name": "stdout",
     "output_type": "stream",
     "text": [
      "0\n",
      "1\n",
      "2\n",
      "3\n",
      "4\n"
     ]
    }
   ],
   "source": [
    "# For Loops and Iterations\n",
    "# Loops let you repeat code\n",
    "for i in range(5):\n",
    "    print(i)\n"
   ]
  },
  {
   "cell_type": "code",
   "execution_count": 14,
   "id": "bb40bea7-a290-4831-9d50-23786aea392b",
   "metadata": {},
   "outputs": [
    {
     "name": "stdout",
     "output_type": "stream",
     "text": [
      "Alice\n",
      "30\n"
     ]
    }
   ],
   "source": [
    "# JSON for accessing APIs (Web Services)\n",
    "import json\n",
    "data = '{\"name\":\"Alice\",\"age\":\"30\"}'\n",
    "info = json.loads(data)\n",
    "print(info['name'])\n",
    "print(info['age'])"
   ]
  },
  {
   "cell_type": "code",
   "execution_count": 18,
   "id": "a0fa7466-d1db-4c31-af07-cd8271823549",
   "metadata": {},
   "outputs": [
    {
     "data": {
      "image/png": "[encoded data removed]",
      "text/plain": [
       "<Figure size 640x480 with 1 Axes>"
      ]
     },
     "metadata": {},
     "output_type": "display_data"
    }
   ],
   "source": [
    "# Data Visualization\n",
    "# Visualizing data can help find insights\n",
    "import matplotlib.pyplot as plt\n",
    "plt.plot([1, 2, 3], [4, 5, 6])\n",
    "plt.show()"
   ]
  },
  {
   "cell_type": "code",
   "execution_count": 20,
   "id": "dc56b504-647e-4ab5-b484-abb9b7790916",
   "metadata": {},
   "outputs": [],
   "source": [
    "# Web Scraping\n",
    "import requests\n",
    "from bs4 import BeautifulSoup"
   ]
  },
  {
   "cell_type": "code",
   "execution_count": 58,
   "id": "6d04e4e2-8a46-470d-b1dc-24e8e8222f5f",
   "metadata": {},
   "outputs": [],
   "source": [
    "\n",
    "def search_allrecipes(query):\n",
    "    base_url = \"https://www.allrecipes.com/search?q=\"\n",
    "\n",
    "    # Create the search URL by appending the query to the base URL\n",
    "    search_url = base_url + query\n",
    "\n",
    "    # Make an HTTP GET request to the search URL\n",
    "    response = requests.get(search_url)\n",
    "\n",
    "    if response.status_code == 200:\n",
    "        # Parse the HTML content of the page\n",
    "        soup = BeautifulSoup(response.text, 'html.parser')\n",
    "\n",
    "        # Extract recipe titles and links\n",
    "        recipes = soup.find_all('a', class_='comp mntl-card-list-card--extendable mntl-universal-card mntl-document-card mntl-card card card--no-image')\n",
    "\n",
    "        for recipe in recipes:\n",
    "            title = recipe.find('span', class_='card__title-text')\n",
    "            link = recipe['href']\n",
    "\n",
    "            if title: #and link:\n",
    "                print(f\"Title: {title.text.strip()}\")\n",
    "                print(f\"Link: {link}\")\n",
    "\n",
    "                print(\"\\n\")\n",
    "    else:\n",
    "        print(f\"Failed to retrieve the page. Status code: {response.status_code}\")"
   ]
  },
  {
   "cell_type": "code",
   "execution_count": 59,
   "id": "e00a213d-5204-4602-befd-a819d7e60b54",
   "metadata": {},
   "outputs": [
    {
     "name": "stdout",
     "output_type": "stream",
     "text": [
      "Title: Pasta e Fagioli (Pasta and Beans)\n",
      "Link: https://www.allrecipes.com/recipe/13009/pasta-fagioli/\n",
      "\n",
      "\n",
      "Title: Pasta Fazool (Pasta e Fagioli)\n",
      "Link: https://www.allrecipes.com/recipe/255823/pasta-fazool-pasta-e-fagioli/\n",
      "\n",
      "\n",
      "Title: Easy Homemade Pasta\n",
      "Link: https://www.allrecipes.com/recipe/241920/easy-homemade-pasta-dough/\n",
      "\n",
      "\n",
      "Title: Pasta Salad\n",
      "Link: https://www.allrecipes.com/recipe/14385/pasta-salad/\n",
      "\n",
      "\n",
      "Title: Pasta Salad with Homemade Dressing\n",
      "Link: https://www.allrecipes.com/recipe/73963/pasta-salad-with-homemade-dressing/\n",
      "\n",
      "\n",
      "Title: Italian Pasta Salad\n",
      "Link: https://www.allrecipes.com/recipe/222750/quick-italian-pasta-salad/\n",
      "\n",
      "\n",
      "Title: Pesto Pasta\n",
      "Link: https://www.allrecipes.com/recipe/11887/pesto-pasta/\n",
      "\n",
      "\n",
      "Title: Shrimp Scampi with Pasta\n",
      "Link: https://www.allrecipes.com/recipe/229960/shrimp-scampi-with-pasta/\n",
      "\n",
      "\n",
      "Title: Tomato-Cream Sauce for Pasta\n",
      "Link: https://www.allrecipes.com/recipe/23404/tomato-cream-sauce-for-pasta/\n",
      "\n",
      "\n",
      "Title: Savory Sea Scallops and Angel Hair Pasta\n",
      "Link: https://www.allrecipes.com/recipe/216757/savory-sea-scallops-and-angel-hair-pasta/\n",
      "\n",
      "\n",
      "Title: Pizza Pasta Bake with Sausage\n",
      "Link: https://www.allrecipes.com/recipe/236790/pizza-pasta-bake-with-sausage/\n",
      "\n",
      "\n",
      "Title: MeMe's Pasta Fagioli\n",
      "Link: https://www.allrecipes.com/recipe/238014/memes-pasta-fagioli/\n",
      "\n",
      "\n",
      "Title: Pesto Pasta Caprese Salad\n",
      "Link: https://www.allrecipes.com/recipe/232211/pesto-pasta-caprese-salad/\n",
      "\n",
      "\n",
      "Title: Chicken Parmesan Pasta\n",
      "Link: https://www.allrecipes.com/recipe/77007/simple-chicken-parmesan/\n",
      "\n",
      "\n",
      "Title: Antipasto Pasta Salad\n",
      "Link: https://www.allrecipes.com/recipe/14278/antipasto-pasta-salad/\n",
      "\n",
      "\n",
      "Title: Champagne Shrimp and Pasta\n",
      "Link: https://www.allrecipes.com/recipe/42586/champagne-shrimp-and-pasta/\n",
      "\n",
      "\n",
      "Title: Cajun Seafood Pasta\n",
      "Link: https://www.allrecipes.com/recipe/11688/cajun-seafood-pasta/\n",
      "\n",
      "\n",
      "Title: Spinach Pasta Salad\n",
      "Link: https://www.allrecipes.com/recipe/16142/spinach-pasta-salad/\n",
      "\n",
      "\n",
      "Title: Club Chicken Pasta Salad\n",
      "Link: https://www.allrecipes.com/recipe/236198/chicken-club-pasta-salad/\n",
      "\n",
      "\n",
      "Title: Creamy Pasta Bake with Cherry Tomatoes and Basil\n",
      "Link: https://www.allrecipes.com/recipe/261148/creamy-pasta-bake-with-cherry-tomatoes-and-basil/\n",
      "\n",
      "\n",
      "Title: Pan-Seared Lemon Tilapia with Parmesan Pasta\n",
      "Link: https://www.allrecipes.com/recipe/133021/pan-seared-lemon-tilapia-with-parmesan-pasta/\n",
      "\n",
      "\n",
      "Title: Shrimp Pasta Salad\n",
      "Link: https://www.allrecipes.com/recipe/233397/shrimp-and-pasta-shell-salad/\n",
      "\n",
      "\n",
      "Title: World's Best Pasta Sauce!\n",
      "Link: https://www.allrecipes.com/recipe/130358/worlds-best-pasta-sauce/\n",
      "\n",
      "\n",
      "Title: Pasta Con Sarde (Pasta with Sardines)\n",
      "Link: https://www.allrecipes.com/recipe/94754/pasta-con-sarde-pasta-with-sardines/\n",
      "\n",
      "\n"
     ]
    }
   ],
   "source": [
    "# Example usage: searching for pasta recipes\n",
    "search_allrecipes(\"pasta\")"
   ]
  },
  {
   "cell_type": "code",
   "execution_count": null,
   "id": "ac71b18f-261d-4346-a1b4-0b584c9e14d2",
   "metadata": {},
   "outputs": [],
   "source": []
  }
 ],
 "metadata": {
  "kernelspec": {
   "display_name": "Python 3 (ipykernel)",
   "language": "python",
   "name": "python3"
  },
  "language_info": {
   "codemirror_mode": {
    "name": "ipython",
    "version": 3
   },
   "file_extension": ".py",
   "mimetype": "text/x-python",
   "name": "python",
   "nbconvert_exporter": "python",
   "pygments_lexer": "ipython3",
   "version": "3.13.1"
  }
 },
 "nbformat": 4,
 "nbformat_minor": 5
}
